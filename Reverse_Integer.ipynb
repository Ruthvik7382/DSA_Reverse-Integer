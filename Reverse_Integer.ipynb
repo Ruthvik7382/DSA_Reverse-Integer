{
 "cells": [
  {
   "cell_type": "code",
   "execution_count": 179,
   "id": "2ae5fa51",
   "metadata": {},
   "outputs": [],
   "source": [
    "a = -122340\n",
    "e = len(str(a))\n",
    "f=0\n",
    "g = 10\n",
    "if a > 0:\n",
    "    for i in range(e):\n",
    "        if i==0 :\n",
    "            if a%g == 0:\n",
    "                a = a//g\n",
    "                e = e-1\n",
    "        d = (a%g) * (10**(e-1))\n",
    "        f = int(f+d)\n",
    "        a = a//10\n",
    "        e = e-1\n",
    "else:\n",
    "    g = -g\n",
    "    e = e-1\n",
    "    for i in range(e):\n",
    "        if i==0 :\n",
    "            if a%g == 0:\n",
    "                a = -(a//g)\n",
    "                e = e-1\n",
    "        d = (a%g) * (10**(e-1))\n",
    "        f = int(f+d)\n",
    "        a = -(a//g)\n",
    "        e = e-1"
   ]
  },
  {
   "cell_type": "code",
   "execution_count": 180,
   "id": "0459107b",
   "metadata": {},
   "outputs": [
    {
     "data": {
      "text/plain": [
       "-43221"
      ]
     },
     "execution_count": 180,
     "metadata": {},
     "output_type": "execute_result"
    }
   ],
   "source": [
    "f"
   ]
  },
  {
   "cell_type": "code",
   "execution_count": 176,
   "id": "ddb52f34",
   "metadata": {},
   "outputs": [],
   "source": [
    "class Solution(object):\n",
    "    def reverse(self, x):\n",
    "        \"\"\"\n",
    "        :type x: int\n",
    "        :rtype: int\n",
    "        \"\"\"\n",
    "        INT_MIN, INT_MAX = -2**31, 2**31 - 1\n",
    "        sign = 1 if x >= 0 else -1\n",
    "        x = abs(x)\n",
    "\n",
    "        reversed_x = 0\n",
    "        while x != 0:\n",
    "            if reversed_x > (INT_MAX - x % 10) // 10:\n",
    "                return 0\n",
    "            reversed_x = reversed_x * 10 + x % 10\n",
    "            x //= 10\n",
    "        reversed_x *= sign\n",
    "\n",
    "        return reversed_x if INT_MIN <= reversed_x <= INT_MAX else 0"
   ]
  },
  {
   "cell_type": "code",
   "execution_count": 178,
   "id": "8a4daa9b",
   "metadata": {},
   "outputs": [
    {
     "name": "stdout",
     "output_type": "stream",
     "text": [
      "-43221\n"
     ]
    }
   ],
   "source": [
    "x = -122340\n",
    "solution = Solution()\n",
    "result = solution.reverse(x)\n",
    "print(result)"
   ]
  },
  {
   "cell_type": "code",
   "execution_count": null,
   "id": "64a315e0",
   "metadata": {},
   "outputs": [],
   "source": []
  }
 ],
 "metadata": {
  "kernelspec": {
   "display_name": "Python 3 (ipykernel)",
   "language": "python",
   "name": "python3"
  },
  "language_info": {
   "codemirror_mode": {
    "name": "ipython",
    "version": 3
   },
   "file_extension": ".py",
   "mimetype": "text/x-python",
   "name": "python",
   "nbconvert_exporter": "python",
   "pygments_lexer": "ipython3",
   "version": "3.9.13"
  }
 },
 "nbformat": 4,
 "nbformat_minor": 5
}
